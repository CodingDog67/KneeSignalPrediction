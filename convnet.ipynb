{
 "cells": [
  {
   "cell_type": "code",
   "execution_count": 21,
   "id": "87329f47",
   "metadata": {},
   "outputs": [
    {
     "name": "stdout",
     "output_type": "stream",
     "text": [
      "24946\n"
     ]
    }
   ],
   "source": [
    "import os\n",
    "import cv2\n",
    "import numpy as np\n",
    "from tqdm import tqdm\n",
    "\n",
    "REBUILD_DATA = False\n",
    "\n",
    "class Dogs_vs_Cats():\n",
    "    IMG_SIZE = 50 \n",
    "    CATS = \"D:\\\\toydata\\\\PetImages\\\\Cat\"\n",
    "    DOGS = \"D:\\\\toydata\\\\PetImages\\\\Dog\"\n",
    "    LABELS = {CATS: 0, DOGS: 1}\n",
    "    \n",
    "    training_data =[]\n",
    "    catcount = 0\n",
    "    dogcount = 0\n",
    "    \n",
    "    \n",
    "    def make_training_data(self):\n",
    "        for label in self.LABELS: \n",
    "            print(label)\n",
    "            for f in tqdm(os.listdir(label)):\n",
    "\n",
    "                try:\n",
    "                    path = os.path.join(label, f)\n",
    "                    img = cv2.imread(path, cv2.IMREAD_GRAYSCALE)\n",
    "                    img = cv2.resize(img, (self.IMG_SIZE, self.IMG_SIZE))\n",
    "                    self.training_data.append([np.array(img), np.eye(2)[self.LABELS[label]]])\n",
    "                    #one hot vector = np.eye(num_classes)[index of chosen class]\n",
    "\n",
    "                    if label == self.CATS:\n",
    "                        self.catcount += 1 \n",
    "\n",
    "                    elif label == self.DOGS:\n",
    "                        self.dogcount +=1\n",
    "                        \n",
    "                # some images are no good, skip them\n",
    "                except Exception as e: \n",
    "                    pass\n",
    "            \n",
    "            np.random.shuffle(self.training_data)\n",
    "            np.save(\"D:\\\\toydata\\\\PetImages\\\\training_data.npy\", self.training_data)\n",
    "            print(\"Cats:\", self.catcount, \"and Dogs:\", self.dogcount)\n",
    "            \n",
    "if REBUILD_DATA:\n",
    "    dogsvcats = Dogs_vs_Cats()\n",
    "    dogsvcats.make_training_data()\n",
    "\n",
    "training_data = np.load(\"D:\\\\toydata\\\\PetImages\\\\training_data.npy\", allow_pickle=True)\n",
    "print(len(training_data))"
   ]
  },
  {
   "cell_type": "code",
   "execution_count": 13,
   "id": "8c674153",
   "metadata": {},
   "outputs": [
    {
     "name": "stdout",
     "output_type": "stream",
     "text": [
      "torch.Size([128, 2, 2])\n"
     ]
    }
   ],
   "source": [
    "import torch \n",
    "import torch.nn as nn\n",
    "import torch.nn.functional as F\n",
    "\n",
    "class Net(nn.Module):\n",
    "    def __init__(self):\n",
    "        super().__init__()\n",
    "        self.conv1 = nn.Conv2d(1,32,5) # ..., features, kernal_size\n",
    "        self.conv2 = nn.Conv2d(32,64,5) \n",
    "        self.conv3 = nn.Conv2d(64,128,5) \n",
    "         \n",
    "        x = torch.randn(50,50).view(-1,1,50,50)\n",
    "        self._to_linear = None\n",
    "        self.convs(x)\n",
    "        self.fc1 = nn.Linear(self._to_linear, 512)\n",
    "        self.fc2 = nn.Linear(512, 2)\n",
    "        \n",
    "    def convs(self, x):\n",
    "        x = F.max_pool2d(F.relu(self.conv1(x)), (2,2))\n",
    "        x = F.max_pool2d(F.relu(self.conv2(x)), (2,2))\n",
    "        x = F.max_pool2d(F.relu(self.conv3(x)), (2,2))\n",
    "\n",
    "        print(x[0].shape)\n",
    "\n",
    "        if self._to_linear is None: \n",
    "            self._to_linear = x[0].shape[0]*x[0].shape[1]*x[0].shape[2]\n",
    "            # this is to get the input shape\n",
    "\n",
    "        return x\n",
    "        \n",
    "    def forward (self, x):\n",
    "        x = self.convs(x) # pass through all conv layers\n",
    "        x = x.view(-1, self._to_linear_)\n",
    "        x = F.relu(self.fc1(x))\n",
    "        x = self.fc2(x)\n",
    "        return x\n",
    "    \n",
    "net = Net()"
   ]
  },
  {
   "cell_type": "code",
   "execution_count": null,
   "id": "e041805e",
   "metadata": {},
   "outputs": [],
   "source": []
  }
 ],
 "metadata": {
  "kernelspec": {
   "display_name": "Python 3",
   "language": "python",
   "name": "python3"
  },
  "language_info": {
   "codemirror_mode": {
    "name": "ipython",
    "version": 3
   },
   "file_extension": ".py",
   "mimetype": "text/x-python",
   "name": "python",
   "nbconvert_exporter": "python",
   "pygments_lexer": "ipython3",
   "version": "3.9.4"
  }
 },
 "nbformat": 4,
 "nbformat_minor": 5
}
